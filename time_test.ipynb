{
 "cells": [
  {
   "cell_type": "code",
   "execution_count": 1,
   "metadata": {},
   "outputs": [],
   "source": [
    "import time"
   ]
  },
  {
   "cell_type": "code",
   "execution_count": 14,
   "metadata": {},
   "outputs": [],
   "source": [
    "import pandas as pd\n",
    "import numpy as np\n",
    "import yfinance as yf\n",
    "import pmdarima\n",
    "from pmdarima import auto_arima"
   ]
  },
  {
   "cell_type": "code",
   "execution_count": 3,
   "metadata": {},
   "outputs": [
    {
     "name": "stdout",
     "output_type": "stream",
     "text": [
      "[*********************100%%**********************]  1 of 1 completed\n"
     ]
    }
   ],
   "source": [
    "start_date = '1990-01-01'\n",
    "end_date = '2023-12-31'\n",
    "ticker = 'NYT'\n",
    "\n",
    "df = yf.download(ticker, start_date, end_date)"
   ]
  },
  {
   "cell_type": "code",
   "execution_count": 9,
   "metadata": {},
   "outputs": [
    {
     "name": "stdout",
     "output_type": "stream",
     "text": [
      "Performing stepwise search to minimize aic\n",
      " ARIMA(2,1,2)(0,0,0)[0] intercept   : AIC=13005.991, Time=9.90 sec\n",
      " ARIMA(0,1,0)(0,0,0)[0] intercept   : AIC=13022.125, Time=0.66 sec\n",
      " ARIMA(1,1,0)(0,0,0)[0] intercept   : AIC=13016.695, Time=0.49 sec\n",
      " ARIMA(0,1,1)(0,0,0)[0] intercept   : AIC=13016.320, Time=0.85 sec\n",
      " ARIMA(0,1,0)(0,0,0)[0]             : AIC=13020.494, Time=0.19 sec\n",
      " ARIMA(1,1,2)(0,0,0)[0] intercept   : AIC=13014.699, Time=1.31 sec\n",
      " ARIMA(2,1,1)(0,0,0)[0] intercept   : AIC=13014.682, Time=3.50 sec\n",
      " ARIMA(3,1,2)(0,0,0)[0] intercept   : AIC=13001.776, Time=9.83 sec\n",
      " ARIMA(3,1,1)(0,0,0)[0] intercept   : AIC=13015.720, Time=10.95 sec\n",
      " ARIMA(4,1,2)(0,0,0)[0] intercept   : AIC=13002.970, Time=21.82 sec\n",
      " ARIMA(3,1,3)(0,0,0)[0] intercept   : AIC=13008.101, Time=17.54 sec\n",
      " ARIMA(2,1,3)(0,0,0)[0] intercept   : AIC=13002.343, Time=15.53 sec\n",
      " ARIMA(4,1,1)(0,0,0)[0] intercept   : AIC=13017.345, Time=8.80 sec\n",
      " ARIMA(4,1,3)(0,0,0)[0] intercept   : AIC=13005.917, Time=15.63 sec\n",
      " ARIMA(3,1,2)(0,0,0)[0]             : AIC=13000.176, Time=14.32 sec\n",
      " ARIMA(2,1,2)(0,0,0)[0]             : AIC=13004.348, Time=5.89 sec\n",
      " ARIMA(3,1,1)(0,0,0)[0]             : AIC=13014.143, Time=1.73 sec\n",
      " ARIMA(4,1,2)(0,0,0)[0]             : AIC=13001.349, Time=12.33 sec\n",
      " ARIMA(3,1,3)(0,0,0)[0]             : AIC=13004.745, Time=13.55 sec\n",
      " ARIMA(2,1,1)(0,0,0)[0]             : AIC=13013.107, Time=2.39 sec\n",
      " ARIMA(2,1,3)(0,0,0)[0]             : AIC=13000.021, Time=11.55 sec\n",
      " ARIMA(1,1,3)(0,0,0)[0]             : AIC=13014.295, Time=5.74 sec\n",
      " ARIMA(2,1,4)(0,0,0)[0]             : AIC=13001.250, Time=10.71 sec\n",
      " ARIMA(1,1,2)(0,0,0)[0]             : AIC=13013.124, Time=1.20 sec\n",
      " ARIMA(1,1,4)(0,0,0)[0]             : AIC=13015.986, Time=1.28 sec\n",
      " ARIMA(3,1,4)(0,0,0)[0]             : AIC=13003.573, Time=9.49 sec\n",
      "\n",
      "Best model:  ARIMA(2,1,3)(0,0,0)[0]          \n",
      "Total fit time: 207.322 seconds\n"
     ]
    }
   ],
   "source": [
    "step = auto_arima(df['Close'], trace=True, suppress_warnings=True) "
   ]
  },
  {
   "cell_type": "code",
   "execution_count": 25,
   "metadata": {},
   "outputs": [
    {
     "data": {
      "text/plain": [
       "int"
      ]
     },
     "execution_count": 25,
     "metadata": {},
     "output_type": "execute_result"
    }
   ],
   "source": [
    "type(step)"
   ]
  },
  {
   "cell_type": "code",
   "execution_count": 27,
   "metadata": {},
   "outputs": [
    {
     "data": {
      "text/plain": [
       "False"
      ]
     },
     "execution_count": 27,
     "metadata": {},
     "output_type": "execute_result"
    }
   ],
   "source": [
    "isinstance(step,pmdarima.arima.arima.ARIMA)"
   ]
  },
  {
   "cell_type": "code",
   "execution_count": 31,
   "metadata": {},
   "outputs": [
    {
     "name": "stdout",
     "output_type": "stream",
     "text": [
      "1\n",
      "2\n",
      "3\n",
      "4\n",
      "5\n",
      "6\n",
      "7\n",
      "8\n",
      "9\n",
      "10\n"
     ]
    }
   ],
   "source": [
    "i=0\n",
    "while(i<10):\n",
    "    i+=1\n",
    "    print(i)\n",
    "    "
   ]
  },
  {
   "cell_type": "code",
   "execution_count": 33,
   "metadata": {},
   "outputs": [
    {
     "name": "stdout",
     "output_type": "stream",
     "text": [
      "Performing stepwise search to minimize aic\n",
      " ARIMA(2,1,2)(0,0,0)[0] intercept   : AIC=13005.991, Time=9.56 sec\n",
      " ARIMA(0,1,0)(0,0,0)[0] intercept   : AIC=13022.125, Time=0.60 sec\n",
      " ARIMA(1,1,0)(0,0,0)[0] intercept   : AIC=13016.695, Time=0.49 sec\n",
      " ARIMA(0,1,1)(0,0,0)[0] intercept   : AIC=13016.320, Time=0.81 sec\n",
      " ARIMA(0,1,0)(0,0,0)[0]             : AIC=13020.494, Time=0.19 sec\n",
      " ARIMA(1,1,2)(0,0,0)[0] intercept   : AIC=13014.699, Time=1.31 sec\n",
      " ARIMA(2,1,1)(0,0,0)[0] intercept   : AIC=13014.682, Time=10.93 sec\n",
      " ARIMA(3,1,2)(0,0,0)[0] intercept   : AIC=13001.776, Time=15.99 sec\n",
      " ARIMA(3,1,1)(0,0,0)[0] intercept   : AIC=13015.720, Time=3.54 sec\n",
      " ARIMA(4,1,2)(0,0,0)[0] intercept   : AIC=13002.970, Time=13.14 sec\n",
      " ARIMA(3,1,3)(0,0,0)[0] intercept   : AIC=13008.101, Time=26.47 sec\n",
      " ARIMA(2,1,3)(0,0,0)[0] intercept   : AIC=13002.343, Time=17.78 sec\n",
      " ARIMA(4,1,1)(0,0,0)[0] intercept   : AIC=13017.345, Time=2.20 sec\n",
      " ARIMA(4,1,3)(0,0,0)[0] intercept   : AIC=13005.917, Time=13.88 sec\n",
      " ARIMA(3,1,2)(0,0,0)[0]             : AIC=13000.176, Time=11.15 sec\n",
      " ARIMA(2,1,2)(0,0,0)[0]             : AIC=13004.348, Time=4.64 sec\n",
      " ARIMA(3,1,1)(0,0,0)[0]             : AIC=13014.143, Time=1.96 sec\n",
      " ARIMA(4,1,2)(0,0,0)[0]             : AIC=13001.349, Time=5.60 sec\n",
      " ARIMA(3,1,3)(0,0,0)[0]             : AIC=13004.745, Time=11.24 sec\n",
      " ARIMA(2,1,1)(0,0,0)[0]             : AIC=13013.107, Time=1.98 sec\n",
      " ARIMA(2,1,3)(0,0,0)[0]             : AIC=13000.021, Time=12.71 sec\n",
      " ARIMA(1,1,3)(0,0,0)[0]             : AIC=13014.295, Time=2.15 sec\n",
      " ARIMA(2,1,4)(0,0,0)[0]             : AIC=13001.250, Time=7.87 sec\n",
      " ARIMA(1,1,2)(0,0,0)[0]             : AIC=13013.124, Time=0.66 sec\n",
      " ARIMA(1,1,4)(0,0,0)[0]             : AIC=13015.986, Time=0.90 sec\n",
      " ARIMA(3,1,4)(0,0,0)[0]             : AIC=13003.573, Time=9.45 sec\n",
      "\n",
      "Best model:  ARIMA(2,1,3)(0,0,0)[0]          \n",
      "Total fit time: 187.249 seconds\n",
      "1\n"
     ]
    }
   ],
   "source": [
    "percent_complete=0\n",
    "step=None\n",
    "while (True):\n",
    "    if not isinstance(step,pmdarima.arima.arima.ARIMA):\n",
    "        step = auto_arima(df['Close'], trace=True, suppress_warnings=True) \n",
    "        time.sleep(0.001)\n",
    "        print(percent_complete + 1)\n",
    "        break"
   ]
  }
 ],
 "metadata": {
  "kernelspec": {
   "display_name": "base",
   "language": "python",
   "name": "python3"
  },
  "language_info": {
   "codemirror_mode": {
    "name": "ipython",
    "version": 3
   },
   "file_extension": ".py",
   "mimetype": "text/x-python",
   "name": "python",
   "nbconvert_exporter": "python",
   "pygments_lexer": "ipython3",
   "version": "3.8.5"
  },
  "orig_nbformat": 4
 },
 "nbformat": 4,
 "nbformat_minor": 2
}
